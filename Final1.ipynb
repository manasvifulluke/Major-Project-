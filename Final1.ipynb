{
  "nbformat": 4,
  "nbformat_minor": 0,
  "metadata": {
    "colab": {
      "provenance": [],
      "authorship_tag": "ABX9TyMGw74/19M9jlIIxJe8j0K5",
      "include_colab_link": true
    },
    "kernelspec": {
      "name": "python3",
      "display_name": "Python 3"
    },
    "language_info": {
      "name": "python"
    }
  },
  "cells": [
    {
      "cell_type": "markdown",
      "metadata": {
        "id": "view-in-github",
        "colab_type": "text"
      },
      "source": [
        "<a href=\"https://colab.research.google.com/github/manasvifulluke/Major-Project-/blob/main/Final1.ipynb\" target=\"_parent\"><img src=\"https://colab.research.google.com/assets/colab-badge.svg\" alt=\"Open In Colab\"/></a>"
      ]
    },
    {
      "cell_type": "code",
      "execution_count": 1,
      "metadata": {
        "colab": {
          "base_uri": "https://localhost:8080/"
        },
        "id": "Mv1ULE49O_Vx",
        "outputId": "fa80876c-26da-46c3-99bf-198ece7f693f"
      },
      "outputs": [
        {
          "output_type": "stream",
          "name": "stdout",
          "text": [
            "Collecting squarify\n",
            "  Downloading squarify-0.4.3-py3-none-any.whl (4.3 kB)\n",
            "Installing collected packages: squarify\n",
            "Successfully installed squarify-0.4.3\n"
          ]
        }
      ],
      "source": [
        "!pip install squarify"
      ]
    },
    {
      "cell_type": "code",
      "source": [
        "import pandas as pd\n",
        "import squarify\n",
        "import matplotlib.pyplot as plt"
      ],
      "metadata": {
        "id": "-p8yNnWIPJoJ"
      },
      "execution_count": 2,
      "outputs": []
    },
    {
      "cell_type": "code",
      "source": [
        "data=pd.read_excel(r'/content/Online Retail.xlsx')\n",
        "data = data.dropna()\n",
        "data.drop_duplicates(keep='first', inplace=True)\n",
        "retail = data.copy()"
      ],
      "metadata": {
        "id": "2881QV8bPQuf"
      },
      "execution_count": 3,
      "outputs": []
    },
    {
      "cell_type": "code",
      "source": [
        "#rfm analysis\n",
        "retail['MonetaryValue'] = retail['Quantity'] * retail['UnitPrice']\n",
        "retail_mv = retail.groupby(['CustomerID']).agg({'MonetaryValue': sum}).reset_index()\n",
        "retail_f = retail.groupby('CustomerID')['InvoiceNo'].count()\n",
        "retail_f = retail_f.reset_index()\n",
        "retail_mv_f = pd.merge(retail_mv, retail_f, on='CustomerID', how='inner')\n",
        "retail['InvoiceDate'] = pd.to_datetime(retail['InvoiceDate'],format='%d-%m-%Y %H:%M')\n",
        "max_date = max(retail['InvoiceDate'])\n",
        "retail['Diff'] = max_date - retail['InvoiceDate']\n",
        "retail_r = retail.groupby('CustomerID')['Diff'].min()\n",
        "retail_r = retail_r.reset_index()\n",
        "retail_r['Diff'] = retail_r['Diff'].dt.days\n",
        "retail_rfm = pd.merge(retail_mv_f, retail_r, on='CustomerID', how='inner')\n",
        "retail_rfm.columns = ['CustomerID', 'MonetaryValue', 'Frequency', 'Recency']\n",
        "cols = ['CustomerID', 'Recency', 'Frequency', 'MonetaryValue']\n",
        "retail_rfm = retail_rfm[cols]\n",
        "r_labels = range(4, 0, -1)\n",
        "r_groups = pd.qcut(retail_rfm.Recency, q = 4, labels = r_labels)\n",
        "f_labels = range(1, 5)\n",
        "f_groups = pd.qcut(retail_rfm.Frequency, q = 4, labels = f_labels)\n",
        "m_labels = range(1, 5)\n",
        "m_groups = pd.qcut(retail_rfm.MonetaryValue, q = 4, labels = m_labels)\n",
        "retail_rfm['R'] = r_groups.values\n",
        "retail_rfm['F'] = f_groups.values\n",
        "retail_rfm['M'] = m_groups.values\n",
        "retail_rfm['RFM_Segment'] = retail_rfm.apply(lambda x: str(x['R']) + str(x['F']) + str(x['M']), axis = 1)\n",
        "retail_rfm['RFM_Score'] = retail_rfm[['R', 'F', 'M']].sum(axis = 1)\n",
        "segment_dict = {\n",
        "    'Best Customers':'444',      # Highest frequency as well as monetary value with least recency\n",
        "    'Loyal Customers':'344',     # High frequency as well as monetary value with good recency\n",
        "    'Potential Loyalists':'434', # High recency and monetary value, average frequency\n",
        "    'Big Spenders':'334',        # High monetary value but good recency and frequency values\n",
        "    'At Risk Customers':'244',   # Customer's shopping less often now who used to shop a lot\n",
        "    'Can’t Lose Them':'144',      # Customer's shopped long ago who used to shop a lot.\n",
        "    'Recent Customers':'443',    # Customer's who recently started shopping a lot but with less monetary value\n",
        "    'Lost Cheap Customers':'122' # Customer's shopped long ago but with less frequency and monetary value\n",
        "}\n",
        "dict_segment = dict(zip(segment_dict.values(),segment_dict.keys()))\n",
        "retail_rfm['Segment'] = retail_rfm.RFM_Segment.map(lambda x: dict_segment.get(x))\n",
        "retail_rfm.Segment.fillna('others', inplace=True)\n",
        "retail_rfm_segments = retail_rfm[retail_rfm.Segment!='other'].groupby('Segment')['CustomerID'].count().reset_index(name='counts')\n",
        "segment = list(retail_rfm_segments.iloc[:8].Segment)\n",
        "score = list(retail_rfm_segments.iloc[:8].counts)\n",
        "color_list = [\"#248af1\", \"#eb5d50\", \"#8bc4f6\", \"#8c5c94\", \"#a170e8\", \"#fba521\", \"#75bc3f\"]\n",
        "plt.figure(figsize=(12,8))\n",
        "plt.title('Customer Segments distribution')\n",
        "squarify.plot(sizes=score, label=segment,color=color_list, alpha=0.7)\n",
        "plt.show()"
      ],
      "metadata": {
        "colab": {
          "base_uri": "https://localhost:8080/",
          "height": 544
        },
        "id": "r6poY0ODQupv",
        "outputId": "0bbae478-fec3-4fe7-9090-d6f4540e6358"
      },
      "execution_count": 4,
      "outputs": [
        {
          "output_type": "display_data",
          "data": {
            "text/plain": [
              "<Figure size 1200x800 with 1 Axes>"
            ],
            "image/png": "[encoded data removed]"
          },
          "metadata": {}
        }
      ]
    },
    {
      "cell_type": "code",
      "source": [
        "#extracting best, loyal and potential customers\n",
        "customers=retail_rfm[retail_rfm['RFM_Segment']=='444'].sort_values('MonetaryValue', ascending=False)\n",
        "customers=customers.append(retail_rfm[retail_rfm['RFM_Segment']=='344'].sort_values('MonetaryValue', ascending=False))\n",
        "customers=customers.append(retail_rfm[retail_rfm['RFM_Segment']=='434'].sort_values('MonetaryValue', ascending=False))\n",
        "customers.to_excel(r'C:\\Users\\user\\Desktop\\Customer-Analytics-master\\customers.xlsx')"
      ],
      "metadata": {
        "colab": {
          "base_uri": "https://localhost:8080/"
        },
        "id": "kSsu03XSQ0Oi",
        "outputId": "40667d71-9ca7-425c-eddf-1d5e9668e781"
      },
      "execution_count": 5,
      "outputs": [
        {
          "output_type": "stream",
          "name": "stderr",
          "text": [
            "<ipython-input-5-49d44cbeadff>:3: FutureWarning: The frame.append method is deprecated and will be removed from pandas in a future version. Use pandas.concat instead.\n",
            "  customers=customers.append(retail_rfm[retail_rfm['RFM_Segment']=='344'].sort_values('MonetaryValue', ascending=False))\n",
            "<ipython-input-5-49d44cbeadff>:4: FutureWarning: The frame.append method is deprecated and will be removed from pandas in a future version. Use pandas.concat instead.\n",
            "  customers=customers.append(retail_rfm[retail_rfm['RFM_Segment']=='434'].sort_values('MonetaryValue', ascending=False))\n"
          ]
        }
      ]
    }
  ]
}